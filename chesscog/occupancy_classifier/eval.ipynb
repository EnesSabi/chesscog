{
 "cells": [
  {
   "cell_type": "code",
   "execution_count": 3,
   "metadata": {},
   "outputs": [],
   "source": [
    "import os\n",
    "os.chdir(\"/Users/georg/Desktop/chess-recognition\")"
   ]
  },
  {
   "cell_type": "code",
   "execution_count": 10,
   "metadata": {},
   "outputs": [],
   "source": [
    "import numpy as np\n",
    "\n",
    "from chesscog.utils.io import URI"
   ]
  },
  {
   "cell_type": "code",
   "execution_count": 29,
   "metadata": {},
   "outputs": [],
   "source": [
    "val_split = .03\n",
    "test_split = .1\n",
    "render_dir = URI(\"data://render\")\n",
    "ids = np.array([x.stem for x in render_dir.glob(\"*.json\")])\n",
    "np.random.seed(42)\n",
    "ids = np.random.permutation(ids)\n",
    "sample_sizes = (np.array([val_split, test_split]) * len(ids)).astype(np.int32)\n",
    "val, test, train = np.split(ids, sample_sizes)\n",
    "datasets = {\"val\": val, \"test\": test, \"train\": train}\n",
    "\n",
    "# Create directories\n",
    "for dataset in datasets:\n",
    "    "
   ]
  },
  {
   "cell_type": "code",
   "execution_count": 28,
   "metadata": {},
   "outputs": [
    {
     "output_type": "execute_result",
     "data": {
      "text/plain": [
       "(146,)"
      ]
     },
     "metadata": {},
     "execution_count": 28
    }
   ],
   "source": [
    "for dataset_name, ids in datasets.items():\n",
    "    dataset_dir = render_dir / dataset_name\n",
    "    dataset_dir.mkdir(exist_ok=True)\n",
    "    for id in ids:\n",
    "        (render_dir / f\"{id}.png\").rename(dataset_dir / f\"{id}.png\")\n",
    "        (render_dir / f\"{id}.json\").rename(dataset_dir / f\"{id}.json\")"
   ]
  },
  {
   "cell_type": "code",
   "execution_count": null,
   "metadata": {},
   "outputs": [],
   "source": []
  }
 ],
 "metadata": {
  "kernelspec": {
   "display_name": "Python 3",
   "language": "python",
   "name": "python3"
  },
  "language_info": {
   "codemirror_mode": {
    "name": "ipython",
    "version": 3
   },
   "file_extension": ".py",
   "mimetype": "text/x-python",
   "name": "python",
   "nbconvert_exporter": "python",
   "pygments_lexer": "ipython3",
   "version": "3.8.6-final"
  }
 },
 "nbformat": 4,
 "nbformat_minor": 4
}